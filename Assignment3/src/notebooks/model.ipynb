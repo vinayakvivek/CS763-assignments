{
 "cells": [
  {
   "cell_type": "code",
   "execution_count": 33,
   "metadata": {},
   "outputs": [],
   "source": [
    "import os\n",
    "import sys\n",
    "\n",
    "sys.path.append('../')\n",
    "from Linear import Linear\n",
    "from ReLU import ReLU\n",
    "\n",
    "import torch\n",
    "import torchfile\n",
    "import numpy as np"
   ]
  },
  {
   "cell_type": "code",
   "execution_count": 35,
   "metadata": {
    "scrolled": true
   },
   "outputs": [
    {
     "name": "stdout",
     "output_type": "stream",
     "text": [
      "True\n",
      "True\n",
      "(5, 192)\n",
      "(5, 3)\n"
     ]
    },
    {
     "data": {
      "text/plain": [
       "array([[-10.38593194,   9.05418595,  -7.04454974, -25.34747101,\n",
       "        -17.78788855,  26.69905274,  14.0274227 ,  24.61375996,\n",
       "         -3.91917416,  28.97454338],\n",
       "       [-18.09832686,   6.79058571,  -7.93423969,   1.27639947,\n",
       "        -10.05544179,  23.20146864,   9.79234846,  23.05031236,\n",
       "          2.23992177, -18.40058148],\n",
       "       [  0.45122636,  23.28639762,  -5.6460938 , -12.02538383,\n",
       "         -0.33690501,   3.7956613 ,  24.19577842,  31.69660345,\n",
       "         25.16671037,  26.88794455],\n",
       "       [-16.71275102,  32.44915503,  -5.99949537, -32.86828384,\n",
       "         -8.35313748,  10.68947185,  20.48303   ,   3.01797073,\n",
       "         29.41887617,   0.46167562],\n",
       "       [-12.8053708 ,  24.88061137,  15.478861  , -29.23052218,\n",
       "        -12.9528969 ,  16.73617591,  15.41965385,  31.02572739,\n",
       "         18.36033467,   2.44652614]])"
      ]
     },
     "execution_count": 35,
     "metadata": {},
     "output_type": "execute_result"
    }
   ],
   "source": [
    "sample_dir = '/Users/vinayak/pro/acads/SEM8/CS763/Assignment3/info/'\n",
    "\n",
    "w = torchfile.load(os.path.join(sample_dir, 'W_sample_1.bin'))\n",
    "b = torchfile.load(os.path.join(sample_dir, 'B_sample_1.bin'))\n",
    "inp = torchfile.load(os.path.join(sample_dir, 'input_sample_1.bin'))\n",
    "grad_output = torchfile.load(os.path.join(sample_dir, 'gradOutput_sample_2.bin'))\n",
    "output = torchfile.load(os.path.join(sample_dir, 'output_sample_1.bin'))\n",
    "print(w[0].T.shape == (192, 10))\n",
    "print(b[0].shape == (10,))\n",
    "inp = inp.reshape(-1, (192))\n",
    "print(inp.shape)\n",
    "print(grad_output.shape)\n",
    "output"
   ]
  },
  {
   "cell_type": "code",
   "execution_count": 31,
   "metadata": {},
   "outputs": [
    {
     "name": "stdout",
     "output_type": "stream",
     "text": [
      "[(10, 192), (3, 10)]\n",
      "[(10,), (3,)]\n",
      "(5, 3)\n"
     ]
    }
   ],
   "source": [
    "gradW = torchfile.load(os.path.join(sample_dir, 'gradW_sample_2.bin'))\n",
    "print([x.shape for x in gradW])\n",
    "gradB = torchfile.load(os.path.join(sample_dir, 'gradB_sample_2.bin'))\n",
    "print([x.shape for x in gradB])\n",
    "output = torchfile.load(os.path.join(sample_dir, 'output_sample_2.bin'))\n",
    "print(output.shape)"
   ]
  },
  {
   "cell_type": "code",
   "execution_count": 32,
   "metadata": {},
   "outputs": [
    {
     "data": {
      "text/plain": [
       "array([[   2.38742774, -353.77950522, -147.61256125],\n",
       "       [ -56.24846887, -200.73236829, -150.86123358],\n",
       "       [ -52.23515143, -203.63343264, -114.24898729],\n",
       "       [ -87.61419982,  -30.27768737,  -13.38223212],\n",
       "       [  19.10557045, -122.31894856, -260.09611684]])"
      ]
     },
     "execution_count": 32,
     "metadata": {},
     "output_type": "execute_result"
    }
   ],
   "source": [
    "output"
   ]
  },
  {
   "cell_type": "code",
   "execution_count": null,
   "metadata": {},
   "outputs": [],
   "source": []
  }
 ],
 "metadata": {
  "kernelspec": {
   "display_name": "Python 3",
   "language": "python",
   "name": "python3"
  },
  "language_info": {
   "codemirror_mode": {
    "name": "ipython",
    "version": 3
   },
   "file_extension": ".py",
   "mimetype": "text/x-python",
   "name": "python",
   "nbconvert_exporter": "python",
   "pygments_lexer": "ipython3",
   "version": "3.7.2"
  }
 },
 "nbformat": 4,
 "nbformat_minor": 2
}
