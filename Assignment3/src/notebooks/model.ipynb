{
 "cells": [
  {
   "cell_type": "code",
   "execution_count": 5,
   "metadata": {},
   "outputs": [],
   "source": [
    "import os\n",
    "import sys\n",
    "\n",
    "sys.path.append('../')\n",
    "from Linear import Linear\n",
    "from ReLU import ReLU\n",
    "\n",
    "import torch\n",
    "import torchfile\n",
    "import numpy as np"
   ]
  },
  {
   "cell_type": "code",
   "execution_count": 4,
   "metadata": {},
   "outputs": [],
   "source": [
    "class Model():\n",
    "    \n",
    "    def __init__(self, layers=[], is_train=True):\n",
    "        self.layers = []\n",
    "        self.is_train = is_train\n",
    "        "
   ]
  },
  {
   "cell_type": "code",
   "execution_count": 29,
   "metadata": {},
   "outputs": [
    {
     "name": "stdout",
     "output_type": "stream",
     "text": [
      "True\n",
      "True\n",
      "(5, 192)\n",
      "(5, 3)\n",
      "(5, 10)\n"
     ]
    }
   ],
   "source": [
    "sample_dir = '/Users/vinayak/pro/acads/SEM8/CS763/Assignment3/info/'\n",
    "\n",
    "w = torchfile.load(os.path.join(sample_dir, 'W_sample_1.bin'))\n",
    "b = torchfile.load(os.path.join(sample_dir, 'B_sample_1.bin'))\n",
    "inp = torchfile.load(os.path.join(sample_dir, 'input_sample_1.bin'))\n",
    "grad_output = torchfile.load(os.path.join(sample_dir, 'gradOutput_sample_2.bin'))\n",
    "output = torchfile.load(os.path.join(sample_dir, 'output_sample_1.bin'))\n",
    "print(w[0].T.shape == (192, 10))\n",
    "print(b[0].shape == (10,))\n",
    "inp = inp.reshape(-1, (192))\n",
    "print(inp.shape)\n",
    "print(grad_output.shape)\n",
    "print(output.shape)"
   ]
  },
  {
   "cell_type": "code",
   "execution_count": 31,
   "metadata": {},
   "outputs": [
    {
     "name": "stdout",
     "output_type": "stream",
     "text": [
      "[(10, 192), (3, 10)]\n",
      "[(10,), (3,)]\n",
      "(5, 3)\n"
     ]
    }
   ],
   "source": [
    "gradW = torchfile.load(os.path.join(sample_dir, 'gradW_sample_2.bin'))\n",
    "print([x.shape for x in gradW])\n",
    "gradB = torchfile.load(os.path.join(sample_dir, 'gradB_sample_2.bin'))\n",
    "print([x.shape for x in gradB])\n",
    "output = torchfile.load(os.path.join(sample_dir, 'output_sample_2.bin'))\n",
    "print(output.shape)"
   ]
  },
  {
   "cell_type": "code",
   "execution_count": 32,
   "metadata": {},
   "outputs": [
    {
     "data": {
      "text/plain": [
       "array([[   2.38742774, -353.77950522, -147.61256125],\n",
       "       [ -56.24846887, -200.73236829, -150.86123358],\n",
       "       [ -52.23515143, -203.63343264, -114.24898729],\n",
       "       [ -87.61419982,  -30.27768737,  -13.38223212],\n",
       "       [  19.10557045, -122.31894856, -260.09611684]])"
      ]
     },
     "execution_count": 32,
     "metadata": {},
     "output_type": "execute_result"
    }
   ],
   "source": [
    "output"
   ]
  },
  {
   "cell_type": "code",
   "execution_count": null,
   "metadata": {},
   "outputs": [],
   "source": []
  }
 ],
 "metadata": {
  "kernelspec": {
   "display_name": "Python 3",
   "language": "python",
   "name": "python3"
  },
  "language_info": {
   "codemirror_mode": {
    "name": "ipython",
    "version": 3
   },
   "file_extension": ".py",
   "mimetype": "text/x-python",
   "name": "python",
   "nbconvert_exporter": "python",
   "pygments_lexer": "ipython3",
   "version": "3.7.2"
  }
 },
 "nbformat": 4,
 "nbformat_minor": 2
}
