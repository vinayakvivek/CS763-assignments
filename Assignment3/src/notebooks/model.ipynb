{
 "cells": [
  {
   "cell_type": "code",
   "execution_count": 5,
   "metadata": {},
   "outputs": [],
   "source": [
    "import os\n",
    "import sys\n",
    "\n",
    "sys.path.append('../')\n",
    "from Linear import Linear\n",
    "from ReLU import ReLU\n",
    "\n",
    "import torch\n",
    "import torchfile\n",
    "import numpy as np"
   ]
  },
  {
   "cell_type": "code",
   "execution_count": 4,
   "metadata": {},
   "outputs": [],
   "source": [
    "class Model():\n",
    "    \n",
    "    def __init__(self, layers=[], is_train=True):\n",
    "        self.layers = []\n",
    "        self.is_train = is_train\n",
    "        "
   ]
  },
  {
   "cell_type": "code",
   "execution_count": 22,
   "metadata": {},
   "outputs": [
    {
     "name": "stdout",
     "output_type": "stream",
     "text": [
      "True\n",
      "True\n",
      "(5, 192)\n",
      "(5, 10)\n"
     ]
    }
   ],
   "source": [
    "sample_dir = '/Users/vinayak/pro/acads/SEM8/CS763/Assignment3/info/'\n",
    "\n",
    "w = torchfile.load(os.path.join(sample_dir, 'W_sample_1.bin'))\n",
    "b = torchfile.load(os.path.join(sample_dir, 'B_sample_1.bin'))\n",
    "inp = torchfile.load(os.path.join(sample_dir, 'input_sample_1.bin'))\n",
    "grad_output = torchfile.load(os.path.join(sample_dir, 'gradOutput_sample_1.bin'))\n",
    "print(w[0].T.shape == (192, 10))\n",
    "print(b[0].shape == (10,))\n",
    "inp = inp.reshape(-1, (192))\n",
    "print(inp.shape)\n",
    "print(grad_output.shape)"
   ]
  },
  {
   "cell_type": "code",
   "execution_count": 15,
   "metadata": {},
   "outputs": [
    {
     "data": {
      "text/plain": [
       "['/Users/vinayak/pro/acads/SEM8/CS763/Assignment3/info/gradB_sample_1.bin',\n",
       " '/Users/vinayak/pro/acads/SEM8/CS763/Assignment3/info/input_sample_1.bin',\n",
       " '/Users/vinayak/pro/acads/SEM8/CS763/Assignment3/info/gradB_sample_2.bin',\n",
       " '/Users/vinayak/pro/acads/SEM8/CS763/Assignment3/info/input_sample_2.bin',\n",
       " '/Users/vinayak/pro/acads/SEM8/CS763/Assignment3/info/modelConfig_1.txt',\n",
       " '/Users/vinayak/pro/acads/SEM8/CS763/Assignment3/info/gradW_sample_1.bin',\n",
       " '/Users/vinayak/pro/acads/SEM8/CS763/Assignment3/info/modelConfig_2.txt',\n",
       " '/Users/vinayak/pro/acads/SEM8/CS763/Assignment3/info/gradW_sample_2.bin',\n",
       " '/Users/vinayak/pro/acads/SEM8/CS763/Assignment3/info/CS 763 Assignment Notes.odt',\n",
       " '/Users/vinayak/pro/acads/SEM8/CS763/Assignment3/info/input_criterion_sample_1.bin',\n",
       " '/Users/vinayak/pro/acads/SEM8/CS763/Assignment3/info/gradOutput_sample_1.bin',\n",
       " '/Users/vinayak/pro/acads/SEM8/CS763/Assignment3/info/input_criterion_sample_2.bin',\n",
       " '/Users/vinayak/pro/acads/SEM8/CS763/Assignment3/info/gradOutput_sample_2.bin',\n",
       " '/Users/vinayak/pro/acads/SEM8/CS763/Assignment3/info/B_sample_2.bin',\n",
       " '/Users/vinayak/pro/acads/SEM8/CS763/Assignment3/info/B_sample_1.bin',\n",
       " '/Users/vinayak/pro/acads/SEM8/CS763/Assignment3/info/output_sample_2.bin',\n",
       " '/Users/vinayak/pro/acads/SEM8/CS763/Assignment3/info/target_sample_2.bin',\n",
       " '/Users/vinayak/pro/acads/SEM8/CS763/Assignment3/info/target_sample_1.bin',\n",
       " '/Users/vinayak/pro/acads/SEM8/CS763/Assignment3/info/output_sample_1.bin',\n",
       " '/Users/vinayak/pro/acads/SEM8/CS763/Assignment3/info/gradCriterionInput_sample_2.bin',\n",
       " '/Users/vinayak/pro/acads/SEM8/CS763/Assignment3/info/gradCriterionInput_sample_1.bin',\n",
       " '/Users/vinayak/pro/acads/SEM8/CS763/Assignment3/info/W_sample_2.bin',\n",
       " '/Users/vinayak/pro/acads/SEM8/CS763/Assignment3/info/W_sample_1.bin']"
      ]
     },
     "execution_count": 15,
     "metadata": {},
     "output_type": "execute_result"
    }
   ],
   "source": [
    "from glob import glob\n",
    "glob(sample_dir + \"*\")"
   ]
  },
  {
   "cell_type": "code",
   "execution_count": null,
   "metadata": {},
   "outputs": [],
   "source": []
  }
 ],
 "metadata": {
  "kernelspec": {
   "display_name": "Python 3",
   "language": "python",
   "name": "python3"
  },
  "language_info": {
   "codemirror_mode": {
    "name": "ipython",
    "version": 3
   },
   "file_extension": ".py",
   "mimetype": "text/x-python",
   "name": "python",
   "nbconvert_exporter": "python",
   "pygments_lexer": "ipython3",
   "version": "3.7.2"
  }
 },
 "nbformat": 4,
 "nbformat_minor": 2
}
