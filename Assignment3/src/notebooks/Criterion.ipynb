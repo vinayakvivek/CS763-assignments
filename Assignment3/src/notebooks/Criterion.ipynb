{
 "cells": [
  {
   "cell_type": "code",
   "execution_count": 1,
   "metadata": {},
   "outputs": [],
   "source": [
    "import os\n",
    "import sys\n",
    "\n",
    "sys.path.append('../')\n",
    "from Linear import Linear\n",
    "from ReLU import ReLU\n",
    "from Model import Model\n",
    "\n",
    "import torch\n",
    "import torchfile\n",
    "import numpy as np"
   ]
  },
  {
   "cell_type": "code",
   "execution_count": 91,
   "metadata": {},
   "outputs": [
    {
     "name": "stdout",
     "output_type": "stream",
     "text": [
      "2.9842794901924208e-12\n",
      "8.326673015560919e-17\n"
     ]
    }
   ],
   "source": [
    "class Criterion():\n",
    "    \n",
    "    def __init__(self):\n",
    "        pass\n",
    "    \n",
    "    def forward(self, input, target):\n",
    "        \"\"\"\n",
    "        computes the average cross-entropy loss over the batch\n",
    "        \n",
    "        Args:\n",
    "            input (tensor): of size [batch_size x num_classes]\n",
    "            target (tensor): of size [batch_size x 1]\n",
    "        Return:\n",
    "            average cross-entropy loss (float)\n",
    "        \"\"\"\n",
    "        batch_size = input.shape[0]\n",
    "        logits = input[tuple([range(batch_size), target[:, 0].astype(np.int) - 1])]\n",
    "        self.output = np.mean(-logits + np.log(np.sum(np.exp(input), axis=1)))\n",
    "        return self.output\n",
    "    \n",
    "    def backward(self, input, target):\n",
    "        \"\"\"\n",
    "        computes and returns the gradient of the cross-entropy loss \n",
    "        with respect to the input.\n",
    "        \"\"\"\n",
    "        batch_size = input.shape[0]\n",
    "        softmax = np.exp(input) / np.exp(input).sum(axis=-1,keepdims=True)\n",
    "        indices = tuple([range(batch_size), target[:, 0].astype(np.int) - 1])\n",
    "        softmax[indices] -= 1\n",
    "        self.gradInput = softmax / batch_size\n",
    "        return self.gradInput\n",
    "        \n",
    "        \n",
    "#===========\n",
    "sample_dir = '/Users/vinayak/pro/acads/SEM8/CS763/Assignment3/info/'\n",
    "\n",
    "inp_c = torchfile.load(os.path.join(sample_dir, 'input_criterion_sample_2.bin'))\n",
    "grad_c = torchfile.load(os.path.join(sample_dir, 'gradCriterionInput_sample_2.bin'))\n",
    "target = torchfile.load(os.path.join(sample_dir, 'target_sample_2.bin'))\n",
    "loss_1 = 20.365778784103\n",
    "loss_2 = 129.58350868834\n",
    "\n",
    "# indices = tuple([np.arange(len(inp_c)), target[:, 0].astype(np.int) - 1])\n",
    "# print(inp_c[indices])\n",
    "# ce = -inp_c[indices] + np.log(np.sum(np.exp(inp_c), axis=1))\n",
    "# np.mean(ce)\n",
    "ce_loss = Criterion()\n",
    "print(ce_loss.forward(inp_c, target) - loss_2)\n",
    "print(np.sum(ce_loss.backward(inp_c, target) - grad_c))"
   ]
  },
  {
   "cell_type": "code",
   "execution_count": null,
   "metadata": {},
   "outputs": [],
   "source": []
  }
 ],
 "metadata": {
  "kernelspec": {
   "display_name": "Python 3",
   "language": "python",
   "name": "python3"
  },
  "language_info": {
   "codemirror_mode": {
    "name": "ipython",
    "version": 3
   },
   "file_extension": ".py",
   "mimetype": "text/x-python",
   "name": "python",
   "nbconvert_exporter": "python",
   "pygments_lexer": "ipython3",
   "version": "3.7.2"
  }
 },
 "nbformat": 4,
 "nbformat_minor": 2
}
