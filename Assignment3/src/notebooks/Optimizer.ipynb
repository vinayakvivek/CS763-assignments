{
 "cells": [
  {
   "cell_type": "code",
   "execution_count": 1,
   "metadata": {},
   "outputs": [],
   "source": [
    "import os\n",
    "import sys\n",
    "\n",
    "sys.path.append('../')\n",
    "from Linear import Linear\n",
    "from ReLU import ReLU\n",
    "from Model import Model\n",
    "from Criterion import Criterion\n",
    "\n",
    "import torch\n",
    "import torchfile\n",
    "import numpy as np"
   ]
  },
  {
   "cell_type": "code",
   "execution_count": 17,
   "metadata": {},
   "outputs": [
    {
     "name": "stdout",
     "output_type": "stream",
     "text": [
      "0.6578545451918182\n"
     ]
    }
   ],
   "source": [
    "class SGDOptimizer():\n",
    "    \n",
    "    def __init__(self, model, lr, momentum=0.0, decay=0.0):\n",
    "        \n",
    "        self.model = model\n",
    "        \n",
    "        self.lr0 = lr\n",
    "        self.lr = lr\n",
    "        \n",
    "        self.momentum = momentum\n",
    "        self.init_momentum_params()\n",
    "        \n",
    "        self.decay = decay\n",
    "        \n",
    "        self.num_steps = 0\n",
    "        \n",
    "    def decay_lr(self):\n",
    "        \"\"\"\n",
    "        exponential decay of learning rate\n",
    "        \"\"\"\n",
    "        if self.decay > 0:\n",
    "            self.lr = self.lr0 * np.exp(self.decay * self.num_steps)\n",
    "    \n",
    "    def init_momentum_params(self):\n",
    "        \"\"\"\n",
    "        initialize zero values for retained grads\n",
    "        \"\"\"\n",
    "        self.vW = []\n",
    "        self.vB = []\n",
    "        for layer in self.model.Layers:\n",
    "            if layer.has_params:\n",
    "                self.vW.append(np.zeros_like(layer.W))\n",
    "                self.vB.append(np.zeros_like(layer.B))\n",
    "    \n",
    "    def step(self):\n",
    "        index = 0\n",
    "        for layer in self.model.Layers:\n",
    "            if layer.has_params:\n",
    "                self.vW[index] = self.momentum * self.vW[index] - self.lr * layer.gradW\n",
    "                self.vB[index] = self.momentum * self.vB[index] - self.lr * layer.gradB\n",
    "                layer.W += self.vW[index]\n",
    "                layer.B += self.vB[index]\n",
    "                index += 1\n",
    "        \n",
    "        self.num_steps += 1\n",
    "        self.decay_lr()\n",
    "        \n",
    "model = Model([\n",
    "    Linear(20, 10),\n",
    "    ReLU(),\n",
    "    Linear(10, 5),\n",
    "    ReLU(),\n",
    "    Linear(5, 2)]\n",
    ")\n",
    "optimizer = SGDOptimizer(model, lr=0.001, momentum=0.9, decay=1e-5)\n",
    "loss = Criterion()\n",
    "\n",
    "batch_size = 4\n",
    "num_classes = 2\n",
    "\n",
    "inp = np.random.rand(batch_size, 20)\n",
    "target = np.random.randint(num_classes, size=(batch_size, 1)) + 1\n",
    "\n",
    "# zero the parameter gradients\n",
    "model.clearGradParam()\n",
    "\n",
    "# forward + backward\n",
    "out = model.forward(inp)\n",
    "print(loss.forward(out, target))\n",
    "gradInput = loss.backward(out, target)\n",
    "model.backward(inp, gradInput)\n",
    "\n",
    "# optimize\n",
    "optimizer.step()"
   ]
  },
  {
   "cell_type": "code",
   "execution_count": null,
   "metadata": {},
   "outputs": [],
   "source": [
    "sample_dir = '/Users/vinayak/pro/acads/SEM8/CS763/Assignment3/info/'\n",
    "\n",
    "w = torchfile.load(os.path.join(sample_dir, 'W_sample_1.bin'))\n",
    "b = torchfile.load(os.path.join(sample_dir, 'B_sample_1.bin'))\n",
    "inp = torchfile.load(os.path.join(sample_dir, 'input_sample_1.bin'))\n",
    "grad_output = torchfile.load(os.path.join(sample_dir, 'gradOutput_sample_2.bin'))\n",
    "output = torchfile.load(os.path.join(sample_dir, 'output_sample_1.bin'))\n",
    "print(w[0].T.shape == (192, 10))\n",
    "print(b[0].shape == (10,))\n",
    "inp = inp.reshape(-1, (192))\n",
    "print(inp.shape)\n",
    "print(grad_output.shape)"
   ]
  }
 ],
 "metadata": {
  "kernelspec": {
   "display_name": "Python 3",
   "language": "python",
   "name": "python3"
  },
  "language_info": {
   "codemirror_mode": {
    "name": "ipython",
    "version": 3
   },
   "file_extension": ".py",
   "mimetype": "text/x-python",
   "name": "python",
   "nbconvert_exporter": "python",
   "pygments_lexer": "ipython3",
   "version": "3.7.2"
  }
 },
 "nbformat": 4,
 "nbformat_minor": 2
}
